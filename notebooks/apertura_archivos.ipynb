{
 "cells": [
  {
   "cell_type": "code",
   "execution_count": 2,
   "metadata": {},
   "outputs": [],
   "source": [
    "import pandas as pd\n",
    "import os"
   ]
  },
  {
   "cell_type": "code",
   "execution_count": 3,
   "metadata": {},
   "outputs": [
    {
     "data": {
      "text/plain": [
       "'/home/adalaber/Escritorio/ADALAB/LORENA/CLASES/modulo2/proyecto/project-da-promo-d-module-2-team-2-/notebooks'"
      ]
     },
     "execution_count": 3,
     "metadata": {},
     "output_type": "execute_result"
    }
   ],
   "source": [
    "os.getcwd()"
   ]
  },
  {
   "cell_type": "code",
   "execution_count": 4,
   "metadata": {},
   "outputs": [],
   "source": [
    "df_kaggle = pd.read_csv(\"../datos/data_remaning_kaggle.csv\")"
   ]
  },
  {
   "cell_type": "code",
   "execution_count": 6,
   "metadata": {},
   "outputs": [
    {
     "data": {
      "text/html": [
       "<div>\n",
       "<style scoped>\n",
       "    .dataframe tbody tr th:only-of-type {\n",
       "        vertical-align: middle;\n",
       "    }\n",
       "\n",
       "    .dataframe tbody tr th {\n",
       "        vertical-align: top;\n",
       "    }\n",
       "\n",
       "    .dataframe thead th {\n",
       "        text-align: right;\n",
       "    }\n",
       "</style>\n",
       "<table border=\"1\" class=\"dataframe\">\n",
       "  <thead>\n",
       "    <tr style=\"text-align: right;\">\n",
       "      <th></th>\n",
       "      <th>Unnamed: 0</th>\n",
       "      <th>index</th>\n",
       "      <th>Q18_Part_1</th>\n",
       "      <th>Q18_Part_2</th>\n",
       "      <th>Q18_Part_3</th>\n",
       "      <th>Q18_Part_4</th>\n",
       "      <th>Q18_Part_5</th>\n",
       "      <th>Q18_Part_6</th>\n",
       "      <th>Q18_OTHER</th>\n",
       "      <th>Q19_Part_1</th>\n",
       "      <th>...</th>\n",
       "      <th>Q38_B_Part_3</th>\n",
       "      <th>Q38_B_Part_4</th>\n",
       "      <th>Q38_B_Part_5</th>\n",
       "      <th>Q38_B_Part_6</th>\n",
       "      <th>Q38_B_Part_7</th>\n",
       "      <th>Q38_B_Part_8</th>\n",
       "      <th>Q38_B_Part_9</th>\n",
       "      <th>Q38_B_Part_10</th>\n",
       "      <th>Q38_B_Part_11</th>\n",
       "      <th>Q38_B_OTHER</th>\n",
       "    </tr>\n",
       "  </thead>\n",
       "  <tbody>\n",
       "    <tr>\n",
       "      <th>0</th>\n",
       "      <td>0</td>\n",
       "      <td>0</td>\n",
       "      <td>General purpose image/video tools (PIL, cv2, s...</td>\n",
       "      <td>NaN</td>\n",
       "      <td>NaN</td>\n",
       "      <td>NaN</td>\n",
       "      <td>NaN</td>\n",
       "      <td>NaN</td>\n",
       "      <td>NaN</td>\n",
       "      <td>Word embeddings/vectors (GLoVe, fastText, word...</td>\n",
       "      <td>...</td>\n",
       "      <td>NaN</td>\n",
       "      <td>NaN</td>\n",
       "      <td>NaN</td>\n",
       "      <td>NaN</td>\n",
       "      <td>NaN</td>\n",
       "      <td>NaN</td>\n",
       "      <td>NaN</td>\n",
       "      <td>NaN</td>\n",
       "      <td>NaN</td>\n",
       "      <td>NaN</td>\n",
       "    </tr>\n",
       "    <tr>\n",
       "      <th>1</th>\n",
       "      <td>1</td>\n",
       "      <td>1</td>\n",
       "      <td>NaN</td>\n",
       "      <td>NaN</td>\n",
       "      <td>NaN</td>\n",
       "      <td>NaN</td>\n",
       "      <td>NaN</td>\n",
       "      <td>NaN</td>\n",
       "      <td>NaN</td>\n",
       "      <td>NaN</td>\n",
       "      <td>...</td>\n",
       "      <td>NaN</td>\n",
       "      <td>NaN</td>\n",
       "      <td>NaN</td>\n",
       "      <td>NaN</td>\n",
       "      <td>NaN</td>\n",
       "      <td>NaN</td>\n",
       "      <td>NaN</td>\n",
       "      <td>NaN</td>\n",
       "      <td>None</td>\n",
       "      <td>NaN</td>\n",
       "    </tr>\n",
       "    <tr>\n",
       "      <th>2</th>\n",
       "      <td>2</td>\n",
       "      <td>2</td>\n",
       "      <td>NaN</td>\n",
       "      <td>NaN</td>\n",
       "      <td>NaN</td>\n",
       "      <td>NaN</td>\n",
       "      <td>NaN</td>\n",
       "      <td>NaN</td>\n",
       "      <td>NaN</td>\n",
       "      <td>NaN</td>\n",
       "      <td>...</td>\n",
       "      <td>NaN</td>\n",
       "      <td>NaN</td>\n",
       "      <td>TensorBoard</td>\n",
       "      <td>NaN</td>\n",
       "      <td>NaN</td>\n",
       "      <td>NaN</td>\n",
       "      <td>NaN</td>\n",
       "      <td>NaN</td>\n",
       "      <td>NaN</td>\n",
       "      <td>NaN</td>\n",
       "    </tr>\n",
       "  </tbody>\n",
       "</table>\n",
       "<p>3 rows × 214 columns</p>\n",
       "</div>"
      ],
      "text/plain": [
       "   Unnamed: 0  index                                         Q18_Part_1  \\\n",
       "0           0      0  General purpose image/video tools (PIL, cv2, s...   \n",
       "1           1      1                                                NaN   \n",
       "2           2      2                                                NaN   \n",
       "\n",
       "  Q18_Part_2 Q18_Part_3 Q18_Part_4 Q18_Part_5 Q18_Part_6 Q18_OTHER  \\\n",
       "0        NaN        NaN        NaN        NaN        NaN       NaN   \n",
       "1        NaN        NaN        NaN        NaN        NaN       NaN   \n",
       "2        NaN        NaN        NaN        NaN        NaN       NaN   \n",
       "\n",
       "                                          Q19_Part_1  ... Q38_B_Part_3  \\\n",
       "0  Word embeddings/vectors (GLoVe, fastText, word...  ...          NaN   \n",
       "1                                                NaN  ...          NaN   \n",
       "2                                                NaN  ...          NaN   \n",
       "\n",
       "  Q38_B_Part_4   Q38_B_Part_5 Q38_B_Part_6 Q38_B_Part_7 Q38_B_Part_8  \\\n",
       "0          NaN            NaN          NaN          NaN          NaN   \n",
       "1          NaN            NaN          NaN          NaN          NaN   \n",
       "2          NaN   TensorBoard           NaN          NaN          NaN   \n",
       "\n",
       "  Q38_B_Part_9 Q38_B_Part_10 Q38_B_Part_11 Q38_B_OTHER  \n",
       "0          NaN           NaN           NaN         NaN  \n",
       "1          NaN           NaN          None         NaN  \n",
       "2          NaN           NaN           NaN         NaN  \n",
       "\n",
       "[3 rows x 214 columns]"
      ]
     },
     "execution_count": 6,
     "metadata": {},
     "output_type": "execute_result"
    }
   ],
   "source": [
    "df_kaggle.head(3)"
   ]
  },
  {
   "cell_type": "code",
   "execution_count": 7,
   "metadata": {},
   "outputs": [],
   "source": [
    "df_exported_data = pd.read_csv(\"../datos/exported_db_data.csv\")"
   ]
  },
  {
   "cell_type": "code",
   "execution_count": 8,
   "metadata": {},
   "outputs": [
    {
     "data": {
      "text/html": [
       "<div>\n",
       "<style scoped>\n",
       "    .dataframe tbody tr th:only-of-type {\n",
       "        vertical-align: middle;\n",
       "    }\n",
       "\n",
       "    .dataframe tbody tr th {\n",
       "        vertical-align: top;\n",
       "    }\n",
       "\n",
       "    .dataframe thead th {\n",
       "        text-align: right;\n",
       "    }\n",
       "</style>\n",
       "<table border=\"1\" class=\"dataframe\">\n",
       "  <thead>\n",
       "    <tr style=\"text-align: right;\">\n",
       "      <th></th>\n",
       "      <th>index</th>\n",
       "      <th>Q10_Part_1</th>\n",
       "      <th>Q10_Part_2</th>\n",
       "      <th>Q10_Part_3</th>\n",
       "      <th>Q10_Part_4</th>\n",
       "      <th>Q10_Part_5</th>\n",
       "      <th>Q10_Part_6</th>\n",
       "      <th>Q10_Part_7</th>\n",
       "      <th>Q10_Part_8</th>\n",
       "      <th>Q10_Part_9</th>\n",
       "      <th>Q10_Part_10</th>\n",
       "      <th>Q10_Part_11</th>\n",
       "      <th>Q10_Part_12</th>\n",
       "      <th>Q10_Part_13</th>\n",
       "      <th>Q10_Part_14</th>\n",
       "      <th>Q10_Part_15</th>\n",
       "      <th>Q10_Part_16</th>\n",
       "      <th>Q10_OTHER</th>\n",
       "    </tr>\n",
       "  </thead>\n",
       "  <tbody>\n",
       "    <tr>\n",
       "      <th>0</th>\n",
       "      <td>0</td>\n",
       "      <td>NaN</td>\n",
       "      <td>Colab Notebooks</td>\n",
       "      <td>NaN</td>\n",
       "      <td>NaN</td>\n",
       "      <td>NaN</td>\n",
       "      <td>NaN</td>\n",
       "      <td>NaN</td>\n",
       "      <td>NaN</td>\n",
       "      <td>NaN</td>\n",
       "      <td>NaN</td>\n",
       "      <td>NaN</td>\n",
       "      <td>NaN</td>\n",
       "      <td>NaN</td>\n",
       "      <td>NaN</td>\n",
       "      <td>NaN</td>\n",
       "      <td>NaN</td>\n",
       "      <td>NaN</td>\n",
       "    </tr>\n",
       "    <tr>\n",
       "      <th>1</th>\n",
       "      <td>1</td>\n",
       "      <td>Kaggle Notebooks</td>\n",
       "      <td>Colab Notebooks</td>\n",
       "      <td>NaN</td>\n",
       "      <td>NaN</td>\n",
       "      <td>NaN</td>\n",
       "      <td>NaN</td>\n",
       "      <td>NaN</td>\n",
       "      <td>NaN</td>\n",
       "      <td>NaN</td>\n",
       "      <td>NaN</td>\n",
       "      <td>NaN</td>\n",
       "      <td>NaN</td>\n",
       "      <td>NaN</td>\n",
       "      <td>NaN</td>\n",
       "      <td>NaN</td>\n",
       "      <td>NaN</td>\n",
       "      <td>NaN</td>\n",
       "    </tr>\n",
       "  </tbody>\n",
       "</table>\n",
       "</div>"
      ],
      "text/plain": [
       "   index         Q10_Part_1       Q10_Part_2 Q10_Part_3 Q10_Part_4 Q10_Part_5  \\\n",
       "0      0                NaN  Colab Notebooks        NaN        NaN        NaN   \n",
       "1      1   Kaggle Notebooks  Colab Notebooks        NaN        NaN        NaN   \n",
       "\n",
       "  Q10_Part_6 Q10_Part_7 Q10_Part_8 Q10_Part_9 Q10_Part_10 Q10_Part_11  \\\n",
       "0        NaN        NaN        NaN        NaN         NaN         NaN   \n",
       "1        NaN        NaN        NaN        NaN         NaN         NaN   \n",
       "\n",
       "  Q10_Part_12 Q10_Part_13 Q10_Part_14 Q10_Part_15 Q10_Part_16 Q10_OTHER  \n",
       "0         NaN         NaN         NaN         NaN         NaN       NaN  \n",
       "1         NaN         NaN         NaN         NaN         NaN       NaN  "
      ]
     },
     "execution_count": 8,
     "metadata": {},
     "output_type": "execute_result"
    }
   ],
   "source": [
    "df_exported_data.head(2)"
   ]
  },
  {
   "cell_type": "code",
   "execution_count": 1,
   "metadata": {},
   "outputs": [],
   "source": [
    "with open(\"../datos/data_txt_clean.txt\") as f:\n",
    "    fichero_txt = f.read()"
   ]
  },
  {
   "cell_type": "code",
   "execution_count": 6,
   "metadata": {},
   "outputs": [
    {
     "name": "stdout",
     "output_type": "stream",
     "text": [
      "index;Q3;Q4;Q5;Q6;Q8;Q11;Q13;Q15;Q20;Q21;Q22;Q23;Q\n"
     ]
    }
   ],
   "source": [
    "print(fichero_txt[0:50])\n",
    "#meterlo en sql en una tabla para poder hacer una query y hacer un dataframe de este archivo"
   ]
  },
  {
   "cell_type": "code",
   "execution_count": 7,
   "metadata": {},
   "outputs": [],
   "source": [
    "import xml.etree.ElementTree as ET"
   ]
  },
  {
   "cell_type": "code",
   "execution_count": 8,
   "metadata": {},
   "outputs": [],
   "source": [
    "tree = ET.parse(\"../datos/data_xml_clean.xml\")"
   ]
  },
  {
   "cell_type": "code",
   "execution_count": 10,
   "metadata": {},
   "outputs": [],
   "source": [
    "root = tree.getroot()"
   ]
  }
 ],
 "metadata": {
  "kernelspec": {
   "display_name": "adalabenv",
   "language": "python",
   "name": "python3"
  },
  "language_info": {
   "codemirror_mode": {
    "name": "ipython",
    "version": 3
   },
   "file_extension": ".py",
   "mimetype": "text/x-python",
   "name": "python",
   "nbconvert_exporter": "python",
   "pygments_lexer": "ipython3",
   "version": "3.10.9"
  },
  "orig_nbformat": 4,
  "vscode": {
   "interpreter": {
    "hash": "0b8bbabd87d3ce636409443d1398e5656bf795e33c753b5e821c4b969f4e6c41"
   }
  }
 },
 "nbformat": 4,
 "nbformat_minor": 2
}
