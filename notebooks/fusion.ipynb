{
 "cells": [
  {
   "cell_type": "code",
   "execution_count": null,
   "metadata": {},
   "outputs": [],
   "source": [
    "import pandas as pd\n",
    "import os"
   ]
  },
  {
   "cell_type": "code",
   "execution_count": null,
   "metadata": {},
   "outputs": [],
   "source": [
    "pd.options.display.max_columns = None"
   ]
  },
  {
   "attachments": {},
   "cell_type": "markdown",
   "metadata": {},
   "source": [
    "## Cargamos los datos"
   ]
  },
  {
   "cell_type": "code",
   "execution_count": null,
   "metadata": {},
   "outputs": [],
   "source": [
    "df_kaggle = pd.read_csv(\"../datos/data_remaning_kaggle.csv\", index_col=0)\n",
    "df_kaggle.head(2)"
   ]
  },
  {
   "cell_type": "code",
   "execution_count": null,
   "metadata": {},
   "outputs": [],
   "source": [
    "df_exported_data = pd.read_csv(\"../datos/exported_db_data.csv\")\n",
    "df_exported_data.head(2)"
   ]
  },
  {
   "cell_type": "code",
   "execution_count": null,
   "metadata": {},
   "outputs": [],
   "source": [
    "df_data_txt = pd.read_csv(\"../datos/data_txt_clean.txt\", sep = \";\")\n",
    "df_data_txt.head(2)"
   ]
  },
  {
   "cell_type": "code",
   "execution_count": null,
   "metadata": {},
   "outputs": [],
   "source": [
    "df_data_xml = pd.read_xml(\"../datos/data_xml_clean.xml\")\n",
    "df_data_xml.head()"
   ]
  },
  {
   "attachments": {},
   "cell_type": "markdown",
   "metadata": {},
   "source": [
    "## Unimos los dataframes"
   ]
  },
  {
   "attachments": {},
   "cell_type": "markdown",
   "metadata": {},
   "source": [
    "\n",
    "Hemos unido los dos dataframes usando merge para unir los datos de xml con los de txt. "
   ]
  },
  {
   "cell_type": "code",
   "execution_count": null,
   "metadata": {},
   "outputs": [],
   "source": [
    "def unir_datos(df1, df2, df3, df4):\n",
    "    df_todo = df1.merge(df2, on = \"index\", how = \"outer\")\n",
    "    df_todo = df_todo.merge(df3, on = \"index\", how = \"outer\")\n",
    "    df_todo = df_todo.merge(df4, on = \"index\", how = \"outer\")\n",
    "    return df_todo"
   ]
  },
  {
   "cell_type": "code",
   "execution_count": null,
   "metadata": {},
   "outputs": [],
   "source": [
    "df_unido = unir_datos(df_data_xml, df_data_txt, df_exported_data, df_kaggle)\n",
    "\n",
    "df_unido.head(2)"
   ]
  },
  {
   "cell_type": "code",
   "execution_count": null,
   "metadata": {},
   "outputs": [],
   "source": [
    "df_unido.to_csv('../datos/datos_unidos_raw.csv')"
   ]
  },
  {
   "cell_type": "code",
   "execution_count": null,
   "metadata": {},
   "outputs": [],
   "source": [
    "# df_unido1 = df_data_xml.merge(df_data_txt, on = \"index\", how = \"outer\")\n",
    "# df_unido1.head(2)"
   ]
  },
  {
   "attachments": {},
   "cell_type": "markdown",
   "metadata": {},
   "source": [
    "Unimos df_unido1 con df_exported_data (la pregunta 10 y sus subpreguntas) usando merge"
   ]
  },
  {
   "cell_type": "code",
   "execution_count": null,
   "metadata": {},
   "outputs": [],
   "source": [
    "# df_unido2 = df_unido1.merge(df_exported_data, on = \"index\", how = \"outer\")\n",
    "# df_unido2.head(2)"
   ]
  },
  {
   "attachments": {},
   "cell_type": "markdown",
   "metadata": {},
   "source": [
    "Unimos df_unido2 con los datos de df_kaggle usando merge"
   ]
  },
  {
   "cell_type": "code",
   "execution_count": null,
   "metadata": {},
   "outputs": [],
   "source": [
    "# df_unido = df_unido2.merge(df_kaggle, on = \"index\", how = \"outer\")\n",
    "# df_unido.head(2)"
   ]
  },
  {
   "attachments": {},
   "cell_type": "markdown",
   "metadata": {},
   "source": [
    "## Exploracion de los datos"
   ]
  },
  {
   "attachments": {},
   "cell_type": "markdown",
   "metadata": {},
   "source": [
    "Esta función nos explica paso a paso las características más relevantes del dataframe. \n"
   ]
  },
  {
   "cell_type": "code",
   "execution_count": null,
   "metadata": {},
   "outputs": [],
   "source": [
    "\n",
    "# def df_explore(dataframe, nombre):\n",
    "#     print(f\"EXPLORACIÓN DEL DATAFRAME {nombre.upper()}\")\n",
    "#     print(\"--------------\")\n",
    "#     print(f\"El dataframe {nombre} tiene {dataframe.shape[0]} filas y {dataframe.shape[1]} columnas\")\n",
    "#     print(\"--------------\")\n",
    "#     print(\"Las primeras 5 columnas son:\")\n",
    "#     display(dataframe.head())\n",
    "#     print(\"Las últimas 5 columnas son:\")\n",
    "#     display(dataframe.tail())\n",
    "#     print(\"--------------\")\n",
    "#     print(\"Una muestra de dos filas seleccionadas al azar:\")\n",
    "#     display(dataframe.sample(2))\n",
    "#     print(\"--------------\")\n",
    "#     print(f\"El dataframe {nombre} tiene las siguientes columnas:\")\n",
    "#     for col in dataframe.columns:\n",
    "#         print(col) \n",
    "#     print(\"--------------\")\n",
    "#     print(f\"Los principales estadísticos de las variables numéricas son:\")\n",
    "#     display(dataframe.describe())\n",
    "#     print(\"--------------\")\n",
    "#     print(f\"Los principales estadísticos de las variables categóricas son:\")\n",
    "#     display(dataframe.describe(include=object))\n",
    "#     print(\"--------------\")\n",
    "#     print(\"El porcentaje de nulos por columna:\")\n",
    "#     for i, col in enumerate(dataframe.isnull().sum()):\n",
    "#         print(f\"{dataframe.isnull().sum().index[i]}: {col/dataframe.shape[0]*100}\")\n",
    "#     print(\"--------------\")\n",
    "#     print(\"El numero de valores distintos de cada columna es:\")\n",
    "#     for col in dataframe.columns:\n",
    "#         if len(dataframe[col].value_counts()) > 6:\n",
    "#             print(col, len(dataframe[col].value_counts()))\n",
    "#         else:\n",
    "#             print(col, len(dataframe[col].value_counts()))\n",
    "#             print(f\"Los valores son: {dataframe[col].unique()}\")"
   ]
  },
  {
   "cell_type": "code",
   "execution_count": null,
   "metadata": {},
   "outputs": [],
   "source": [
    "#df_explore(df_unido, \"Encuesta Entera\")"
   ]
  },
  {
   "attachments": {},
   "cell_type": "markdown",
   "metadata": {},
   "source": [
    "## Limpieza"
   ]
  },
  {
   "cell_type": "code",
   "execution_count": null,
   "metadata": {},
   "outputs": [],
   "source": [
    "def limpiar_espacios(columna):    \n",
    "    patron_espacios = \"\\s*,\\s+\"\n",
    "    return re.sub(patron_espacios, \", \", columna)"
   ]
  },
  {
   "attachments": {},
   "cell_type": "markdown",
   "metadata": {},
   "source": [
    "## Limpieza: Eliminamos columnas"
   ]
  },
  {
   "cell_type": "code",
   "execution_count": null,
   "metadata": {},
   "outputs": [],
   "source": [
    "for col in df_unido.columns:\n",
    "    print(col)"
   ]
  },
  {
   "cell_type": "code",
   "execution_count": null,
   "metadata": {},
   "outputs": [],
   "source": [
    "def eliminar_etiqueta (dataframe, *lista_columna):\n",
    "    #función para eliminar las columnas en las que no nos vamos a centrar en el estudio, por etiqueta/nombre de columna, \n",
    "    #los parámetros que coge son dataframe y una lista de nombres de las columnas de ese dataframe\n",
    "    for columna in dataframe.columns:\n",
    "        for elemento  in lista_columna:\n",
    "            if elemento == columna:\n",
    "                #esta función itera por nuestra lista_columna (el arg) y comprueba si el elemento (la etiqueta a eliminar)\n",
    "                # se encuentra en cada columna, y, de ser así, la eliminará usando el método .drop()\n",
    "                dataframe.drop([columna],axis = 1, inplace = True)\n",
    "    return dataframe.columns"
   ]
  },
  {
   "cell_type": "code",
   "execution_count": null,
   "metadata": {},
   "outputs": [],
   "source": [
    "# eliminamos columnas sueltas\n",
    "eliminar_etiqueta(df_unido, *['level_0', 'time', 'Q4', 'Q11', 'Q13', 'Q20', 'Q21'])"
   ]
  },
  {
   "cell_type": "code",
   "execution_count": null,
   "metadata": {},
   "outputs": [],
   "source": [
    "for col in df_unido.columns:\n",
    "    print(col)"
   ]
  },
  {
   "cell_type": "code",
   "execution_count": null,
   "metadata": {},
   "outputs": [],
   "source": [
    "# función para eliminar las columnas en las que no nos vamos a centrar en el estudio, por rango \n",
    "def eliminar_indices (dataframe, columna1, columna2):\n",
    "    #creamos un diccionario de los índices por columna de nuestro df\n",
    "    diccionario = {}\n",
    "    #los nombres de las columnas serán nuestras keys para poder acceder a los índices usando los nombres de las columnas (los parámetros)\n",
    "    for indice, col in enumerate(df_unido.columns):\n",
    "        diccionario.update({col: indice})\n",
    "    print(diccionario)\n",
    "    #usamos el diccionario para obtener los índices en el rango \n",
    "    if columna1 in diccionario:\n",
    "        indice1 = diccionario.get(columna1)\n",
    "    else: \n",
    "        print('Columna1 no está en el diccionario')\n",
    "    if columna2 in diccionario:\n",
    "    #usamos el +1 para poder acceder al último índice\n",
    "        indice2 = diccionario.get(columna2) + 1\n",
    "    else: \n",
    "        print('Columna2 no está en el diccionario')\n",
    "        #usamos los índices para borrar el rango de columnas y así eliminiar varias a la vez\n",
    "    for elemento in dataframe.columns[indice1:indice2]:    \n",
    "        dataframe.drop([elemento],axis = 1, inplace = True)\n",
    "    return dataframe.columns"
   ]
  },
  {
   "attachments": {},
   "cell_type": "markdown",
   "metadata": {},
   "source": [
    "Con la función nos vamos deshaciendo en rangos de las columnas que no nos aportan información con valor. "
   ]
  },
  {
   "cell_type": "code",
   "execution_count": null,
   "metadata": {},
   "outputs": [],
   "source": [
    "eliminar_indices(df_unido, 'Q12', 'Q17')"
   ]
  },
  {
   "cell_type": "code",
   "execution_count": null,
   "metadata": {},
   "outputs": [],
   "source": [
    "eliminar_indices(df_unido, 'Q23', 'Q35')"
   ]
  },
  {
   "cell_type": "code",
   "execution_count": null,
   "metadata": {},
   "outputs": [],
   "source": [
    "eliminar_indices(df_unido, 'Q18_Part_1', 'Q38_A_OTHER')"
   ]
  },
  {
   "cell_type": "code",
   "execution_count": null,
   "metadata": {},
   "outputs": [],
   "source": [
    "eliminar_indices(df_unido, 'Q40_Part_1', 'Q38_B_OTHER')"
   ]
  },
  {
   "cell_type": "code",
   "execution_count": null,
   "metadata": {},
   "outputs": [],
   "source": [
    "for i in df_unido.columns:\n",
    "    print(i)"
   ]
  },
  {
   "cell_type": "code",
   "execution_count": null,
   "metadata": {},
   "outputs": [],
   "source": [
    "# guardamos los datos unidos con las columnas eliminadas en un archivo de csv\n",
    "df_unido.to_csv('../datos/datos_unidos.csv')"
   ]
  },
  {
   "attachments": {},
   "cell_type": "markdown",
   "metadata": {},
   "source": [
    "## Filtramos por Data Analysts"
   ]
  },
  {
   "cell_type": "code",
   "execution_count": null,
   "metadata": {},
   "outputs": [],
   "source": [
    "# filtramos el nuevo dataframe unido por respuestas de personas que se identifican como \n",
    "# Business Analyst o Data Analyst\n",
    "df_da_ba = df_unido[(df_unido [\"Q5\"] == \"Business Analyst\") | (df_unido [\"Q5\"] == \"Data Analyst\")]"
   ]
  },
  {
   "cell_type": "code",
   "execution_count": null,
   "metadata": {},
   "outputs": [],
   "source": [
    "df_da_ba.head()"
   ]
  },
  {
   "cell_type": "code",
   "execution_count": null,
   "metadata": {},
   "outputs": [],
   "source": [
    "# guardamos los datos unidos con las columnas eliminadas en un archivo de csv\n",
    "df_da_ba.to_csv('../datos/datos_da_ba.csv')"
   ]
  }
 ],
 "metadata": {
  "kernelspec": {
   "display_name": "base",
   "language": "python",
   "name": "python3"
  },
  "language_info": {
   "codemirror_mode": {
    "name": "ipython",
    "version": 3
   },
   "file_extension": ".py",
   "mimetype": "text/x-python",
   "name": "python",
   "nbconvert_exporter": "python",
   "pygments_lexer": "ipython3",
   "version": "3.9.7"
  },
  "orig_nbformat": 4,
  "vscode": {
   "interpreter": {
    "hash": "9e93b45245d013bdd53ec1af459c1fa9a1f27ba233da755697f4231c0d29b83f"
   }
  }
 },
 "nbformat": 4,
 "nbformat_minor": 2
}
