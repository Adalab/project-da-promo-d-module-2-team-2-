{
 "cells": [
  {
   "cell_type": "code",
   "execution_count": 2,
   "metadata": {},
   "outputs": [],
   "source": [
    "import re\n",
    "import numpy as np\n",
    "import pandas as pd"
   ]
  },
  {
   "cell_type": "code",
   "execution_count": 3,
   "metadata": {},
   "outputs": [],
   "source": [
    "df_unido = pd.read_csv('../datos/datos_unidos_raw.csv')"
   ]
  },
  {
   "cell_type": "markdown",
   "metadata": {},
   "source": [
    "## Limpieza"
   ]
  },
  {
   "cell_type": "code",
   "execution_count": null,
   "metadata": {},
   "outputs": [],
   "source": [
    "def limpiar_espacios(columna):  \n",
    "    try:\n",
    "\n",
    "        patron_espacios = \"\\s*,\\S+\"\n",
    "        return re.sub(patron_espacios, \", \", columna)\n",
    "    except:\n",
    "        return np.nan"
   ]
  },
  {
   "cell_type": "code",
   "execution_count": 1,
   "metadata": {},
   "outputs": [],
   "source": [
    "def separar_comas(columna):\n",
    "    try:\n",
    "        patron_comas = '(,\\s)a'\n",
    "        return re.sub(patron_comas, \"; a\", columna)\n",
    "    except:\n",
    "        return np.nan"
   ]
  },
  {
   "cell_type": "code",
   "execution_count": 4,
   "metadata": {},
   "outputs": [],
   "source": [
    "df_unido['Q24'] = df_unido['Q24'].apply(separar_comas)"
   ]
  },
  {
   "cell_type": "code",
   "execution_count": 5,
   "metadata": {},
   "outputs": [
    {
     "data": {
      "text/plain": [
       "array([' None of these activities are an important part of my role at work',\n",
       "       ' Build and/or run the data infrastructure that my business uses for storing; analyzing; and operationalizing data',\n",
       "       ' Do research that advances the state of the art of machine learning',\n",
       "       'Analyze and understand data to influence product or business decisions, Build prototypes to explore applying machine learning to new areas',\n",
       "       nan,\n",
       "       ' Build and/or run the data infrastructure that my business uses for storing; analyzing; and operationalizing data, Build prototypes to explore applying machine learning to new areas',\n",
       "       'Analyze and understand data to influence product or business decisions',\n",
       "       'Analyze and understand data to influence product or business decisions, Build and/or run the data infrastructure that my business uses for storing; analyzing; and operationalizing data',\n",
       "       ' Build and/or run the data infrastructure that my business uses for storing; analyzing; and operationalizing data, Build prototypes to explore applying machine learning to new areas, Experimentation and iteration to improve existing ML models',\n",
       "       'Analyze and understand data to influence product or business decisions, Build and/or run a machine learning service that operationally improves my product or workflows',\n",
       "       'Analyze and understand data to influence product or business decisions, Build prototypes to explore applying machine learning to new areas, Do research that advances the state of the art of machine learning',\n",
       "       'Analyze and understand data to influence product or business decisions, Build and/or run the data infrastructure that my business uses for storing; analyzing; and operationalizing data, Build prototypes to explore applying machine learning to new areas, Build and/or run a machine learning service that operationally improves my product or workflows, Experimentation and iteration to improve existing ML models, Do research that advances the state of the art of machine learning',\n",
       "       'Analyze and understand data to influence product or business decisions, Build prototypes to explore applying machine learning to new areas, Experimentation and iteration to improve existing ML models',\n",
       "       ' Build and/or run a machine learning service that operationally improves my product or workflows',\n",
       "       ' Experimentation and iteration to improve existing ML models, Do research that advances the state of the art of machine learning',\n",
       "       'Analyze and understand data to influence product or business decisions, Build prototypes to explore applying machine learning to new areas, Build and/or run a machine learning service that operationally improves my product or workflows, Experimentation and iteration to improve existing ML models',\n",
       "       'Analyze and understand data to influence product or business decisions, Build and/or run the data infrastructure that my business uses for storing; analyzing; and operationalizing data, Build prototypes to explore applying machine learning to new areas, Build and/or run a machine learning service that operationally improves my product or workflows',\n",
       "       'Analyze and understand data to influence product or business decisions, Build and/or run the data infrastructure that my business uses for storing; analyzing; and operationalizing data, Build prototypes to explore applying machine learning to new areas',\n",
       "       ' Other',\n",
       "       'Analyze and understand data to influence product or business decisions, Build and/or run the data infrastructure that my business uses for storing; analyzing; and operationalizing data, Build prototypes to explore applying machine learning to new areas, Build and/or run a machine learning service that operationally improves my product or workflows, Experimentation and iteration to improve existing ML models',\n",
       "       'Analyze and understand data to influence product or business decisions, Build prototypes to explore applying machine learning to new areas, Build and/or run a machine learning service that operationally improves my product or workflows, Do research that advances the state of the art of machine learning',\n",
       "       'Analyze and understand data to influence product or business decisions, Do research that advances the state of the art of machine learning',\n",
       "       'Analyze and understand data to influence product or business decisions, Experimentation and iteration to improve existing ML models',\n",
       "       ' Build prototypes to explore applying machine learning to new areas, Build and/or run a machine learning service that operationally improves my product or workflows, Experimentation and iteration to improve existing ML models',\n",
       "       'Analyze and understand data to influence product or business decisions, Build and/or run the data infrastructure that my business uses for storing; analyzing; and operationalizing data, Experimentation and iteration to improve existing ML models, Do research that advances the state of the art of machine learning',\n",
       "       ' Build and/or run the data infrastructure that my business uses for storing; analyzing; and operationalizing data, Build and/or run a machine learning service that operationally improves my product or workflows, Other',\n",
       "       ' Build prototypes to explore applying machine learning to new areas, Experimentation and iteration to improve existing ML models',\n",
       "       'Analyze and understand data to influence product or business decisions, Build and/or run the data infrastructure that my business uses for storing; analyzing; and operationalizing data, Do research that advances the state of the art of machine learning',\n",
       "       ' Build prototypes to explore applying machine learning to new areas',\n",
       "       ' Experimentation and iteration to improve existing ML models',\n",
       "       'Analyze and understand data to influence product or business decisions, Build and/or run a machine learning service that operationally improves my product or workflows, Experimentation and iteration to improve existing ML models',\n",
       "       ' Build and/or run the data infrastructure that my business uses for storing; analyzing; and operationalizing data, Build and/or run a machine learning service that operationally improves my product or workflows, Do research that advances the state of the art of machine learning',\n",
       "       ' Build and/or run the data infrastructure that my business uses for storing; analyzing; and operationalizing data, Build prototypes to explore applying machine learning to new areas, Build and/or run a machine learning service that operationally improves my product or workflows',\n",
       "       'Analyze and understand data to influence product or business decisions, Experimentation and iteration to improve existing ML models, Do research that advances the state of the art of machine learning',\n",
       "       'Analyze and understand data to influence product or business decisions, Build prototypes to explore applying machine learning to new areas, Build and/or run a machine learning service that operationally improves my product or workflows',\n",
       "       'Analyze and understand data to influence product or business decisions, Build and/or run the data infrastructure that my business uses for storing; analyzing; and operationalizing data, Build prototypes to explore applying machine learning to new areas, Do research that advances the state of the art of machine learning',\n",
       "       ' Build prototypes to explore applying machine learning to new areas, Build and/or run a machine learning service that operationally improves my product or workflows, Do research that advances the state of the art of machine learning',\n",
       "       ' Build and/or run a machine learning service that operationally improves my product or workflows, Experimentation and iteration to improve existing ML models, Do research that advances the state of the art of machine learning',\n",
       "       'Analyze and understand data to influence product or business decisions, Build and/or run the data infrastructure that my business uses for storing; analyzing; and operationalizing data, Build and/or run a machine learning service that operationally improves my product or workflows',\n",
       "       ' Build and/or run the data infrastructure that my business uses for storing; analyzing; and operationalizing data, Experimentation and iteration to improve existing ML models',\n",
       "       ' Build and/or run a machine learning service that operationally improves my product or workflows, Experimentation and iteration to improve existing ML models',\n",
       "       'Analyze and understand data to influence product or business decisions, Build and/or run the data infrastructure that my business uses for storing; analyzing; and operationalizing data, Experimentation and iteration to improve existing ML models',\n",
       "       ' Build prototypes to explore applying machine learning to new areas, Build and/or run a machine learning service that operationally improves my product or workflows, Experimentation and iteration to improve existing ML models, Do research that advances the state of the art of machine learning',\n",
       "       'Analyze and understand data to influence product or business decisions, Build and/or run the data infrastructure that my business uses for storing; analyzing; and operationalizing data, Build and/or run a machine learning service that operationally improves my product or workflows, Do research that advances the state of the art of machine learning',\n",
       "       'Analyze and understand data to influence product or business decisions, Build prototypes to explore applying machine learning to new areas, Build and/or run a machine learning service that operationally improves my product or workflows, Experimentation and iteration to improve existing ML models, Do research that advances the state of the art of machine learning',\n",
       "       ' Build prototypes to explore applying machine learning to new areas, Do research that advances the state of the art of machine learning',\n",
       "       'Analyze and understand data to influence product or business decisions, Build and/or run a machine learning service that operationally improves my product or workflows, Do research that advances the state of the art of machine learning',\n",
       "       ' Build and/or run the data infrastructure that my business uses for storing; analyzing; and operationalizing data, Do research that advances the state of the art of machine learning',\n",
       "       'Analyze and understand data to influence product or business decisions, Build and/or run the data infrastructure that my business uses for storing; analyzing; and operationalizing data, Build and/or run a machine learning service that operationally improves my product or workflows, Experimentation and iteration to improve existing ML models',\n",
       "       'Analyze and understand data to influence product or business decisions, Build and/or run the data infrastructure that my business uses for storing; analyzing; and operationalizing data, Build prototypes to explore applying machine learning to new areas, Experimentation and iteration to improve existing ML models',\n",
       "       ' Build prototypes to explore applying machine learning to new areas, Build and/or run a machine learning service that operationally improves my product or workflows',\n",
       "       'Analyze and understand data to influence product or business decisions, Build and/or run the data infrastructure that my business uses for storing; analyzing; and operationalizing data, Other',\n",
       "       ' Build prototypes to explore applying machine learning to new areas, Experimentation and iteration to improve existing ML models, Do research that advances the state of the art of machine learning',\n",
       "       ' Build and/or run the data infrastructure that my business uses for storing; analyzing; and operationalizing data, Build and/or run a machine learning service that operationally improves my product or workflows, Experimentation and iteration to improve existing ML models',\n",
       "       'Analyze and understand data to influence product or business decisions, Build and/or run a machine learning service that operationally improves my product or workflows, Experimentation and iteration to improve existing ML models, Do research that advances the state of the art of machine learning',\n",
       "       ' Build and/or run the data infrastructure that my business uses for storing; analyzing; and operationalizing data, Build prototypes to explore applying machine learning to new areas, Build and/or run a machine learning service that operationally improves my product or workflows, Experimentation and iteration to improve existing ML models, Do research that advances the state of the art of machine learning',\n",
       "       ' Build and/or run the data infrastructure that my business uses for storing; analyzing; and operationalizing data, Build and/or run a machine learning service that operationally improves my product or workflows',\n",
       "       'Analyze and understand data to influence product or business decisions, Build prototypes to explore applying machine learning to new areas, Experimentation and iteration to improve existing ML models, Do research that advances the state of the art of machine learning',\n",
       "       'Analyze and understand data to influence product or business decisions, Build and/or run the data infrastructure that my business uses for storing; analyzing; and operationalizing data, Build prototypes to explore applying machine learning to new areas, Experimentation and iteration to improve existing ML models, Do research that advances the state of the art of machine learning',\n",
       "       ' Build and/or run the data infrastructure that my business uses for storing; analyzing; and operationalizing data, Build prototypes to explore applying machine learning to new areas, Do research that advances the state of the art of machine learning',\n",
       "       'Analyze and understand data to influence product or business decisions, Build and/or run the data infrastructure that my business uses for storing; analyzing; and operationalizing data, Build prototypes to explore applying machine learning to new areas, Build and/or run a machine learning service that operationally improves my product or workflows, Do research that advances the state of the art of machine learning',\n",
       "       ' Build and/or run the data infrastructure that my business uses for storing; analyzing; and operationalizing data, Build prototypes to explore applying machine learning to new areas, Build and/or run a machine learning service that operationally improves my product or workflows, Experimentation and iteration to improve existing ML models',\n",
       "       'Analyze and understand data to influence product or business decisions, Other',\n",
       "       ' Build and/or run the data infrastructure that my business uses for storing; analyzing; and operationalizing data, Build prototypes to explore applying machine learning to new areas, Experimentation and iteration to improve existing ML models, Do research that advances the state of the art of machine learning',\n",
       "       'Analyze and understand data to influence product or business decisions, Build and/or run the data infrastructure that my business uses for storing; analyzing; and operationalizing data, Build and/or run a machine learning service that operationally improves my product or workflows, Experimentation and iteration to improve existing ML models, Do research that advances the state of the art of machine learning',\n",
       "       ' Build and/or run a machine learning service that operationally improves my product or workflows, Do research that advances the state of the art of machine learning',\n",
       "       ' Build and/or run the data infrastructure that my business uses for storing; analyzing; and operationalizing data, Build prototypes to explore applying machine learning to new areas, Build and/or run a machine learning service that operationally improves my product or workflows, Do research that advances the state of the art of machine learning',\n",
       "       'Analyze and understand data to influence product or business decisions, Experimentation and iteration to improve existing ML models, Other',\n",
       "       ' Build prototypes to explore applying machine learning to new areas, Other',\n",
       "       ' Build and/or run the data infrastructure that my business uses for storing; analyzing; and operationalizing data, Other',\n",
       "       'Analyze and understand data to influence product or business decisions, Build and/or run the data infrastructure that my business uses for storing; analyzing; and operationalizing data, Build prototypes to explore applying machine learning to new areas, Build and/or run a machine learning service that operationally improves my product or workflows, Experimentation and iteration to improve existing ML models, Do research that advances the state of the art of machine learning, Other',\n",
       "       ' Build and/or run the data infrastructure that my business uses for storing; analyzing; and operationalizing data, Experimentation and iteration to improve existing ML models, Do research that advances the state of the art of machine learning',\n",
       "       'Analyze and understand data to influence product or business decisions, Do research that advances the state of the art of machine learning, Other',\n",
       "       'Analyze and understand data to influence product or business decisions, Build and/or run the data infrastructure that my business uses for storing; analyzing; and operationalizing data, Build and/or run a machine learning service that operationally improves my product or workflows, Other',\n",
       "       ' Build and/or run the data infrastructure that my business uses for storing; analyzing; and operationalizing data, Build and/or run a machine learning service that operationally improves my product or workflows, Do research that advances the state of the art of machine learning, Other',\n",
       "       ' Build and/or run the data infrastructure that my business uses for storing; analyzing; and operationalizing data, Build and/or run a machine learning service that operationally improves my product or workflows, Experimentation and iteration to improve existing ML models, Do research that advances the state of the art of machine learning',\n",
       "       'Analyze and understand data to influence product or business decisions, Build and/or run the data infrastructure that my business uses for storing; analyzing; and operationalizing data, Build and/or run a machine learning service that operationally improves my product or workflows, Experimentation and iteration to improve existing ML models, Other',\n",
       "       'Analyze and understand data to influence product or business decisions, Build prototypes to explore applying machine learning to new areas, Experimentation and iteration to improve existing ML models, Do research that advances the state of the art of machine learning, Other',\n",
       "       ' Build prototypes to explore applying machine learning to new areas, Experimentation and iteration to improve existing ML models, Do research that advances the state of the art of machine learning, Other',\n",
       "       ' Build prototypes to explore applying machine learning to new areas, Experimentation and iteration to improve existing ML models, Other',\n",
       "       ' Build prototypes to explore applying machine learning to new areas, Do research that advances the state of the art of machine learning, Other',\n",
       "       'Analyze and understand data to influence product or business decisions, Build and/or run the data infrastructure that my business uses for storing; analyzing; and operationalizing data, Build prototypes to explore applying machine learning to new areas, Build and/or run a machine learning service that operationally improves my product or workflows, Other',\n",
       "       'Analyze and understand data to influence product or business decisions, Build prototypes to explore applying machine learning to new areas, Build and/or run a machine learning service that operationally improves my product or workflows, Do research that advances the state of the art of machine learning, Other',\n",
       "       'Analyze and understand data to influence product or business decisions, Build and/or run the data infrastructure that my business uses for storing; analyzing; and operationalizing data, Do research that advances the state of the art of machine learning, Other',\n",
       "       ' Experimentation and iteration to improve existing ML models, Other',\n",
       "       ' Build prototypes to explore applying machine learning to new areas, Build and/or run a machine learning service that operationally improves my product or workflows, Other',\n",
       "       ' Build and/or run the data infrastructure that my business uses for storing; analyzing; and operationalizing data, Build prototypes to explore applying machine learning to new areas, Experimentation and iteration to improve existing ML models, Do research that advances the state of the art of machine learning, Other',\n",
       "       'Analyze and understand data to influence product or business decisions, Build prototypes to explore applying machine learning to new areas, Build and/or run a machine learning service that operationally improves my product or workflows, Experimentation and iteration to improve existing ML models, Other',\n",
       "       'Analyze and understand data to influence product or business decisions, Build prototypes to explore applying machine learning to new areas, Experimentation and iteration to improve existing ML models, Other',\n",
       "       'Analyze and understand data to influence product or business decisions, Experimentation and iteration to improve existing ML models, Do research that advances the state of the art of machine learning, Other',\n",
       "       'Analyze and understand data to influence product or business decisions, Build prototypes to explore applying machine learning to new areas, Other',\n",
       "       ' Build and/or run a machine learning service that operationally improves my product or workflows, Other',\n",
       "       ' Do research that advances the state of the art of machine learning, Other',\n",
       "       'Analyze and understand data to influence product or business decisions, Build and/or run a machine learning service that operationally improves my product or workflows, Other',\n",
       "       'Analyze and understand data to influence product or business decisions, Build and/or run the data infrastructure that my business uses for storing; analyzing; and operationalizing data, Build prototypes to explore applying machine learning to new areas, Experimentation and iteration to improve existing ML models, Other',\n",
       "       ' Build and/or run a machine learning service that operationally improves my product or workflows, Do research that advances the state of the art of machine learning, Other',\n",
       "       'Analyze and understand data to influence product or business decisions, Build and/or run the data infrastructure that my business uses for storing; analyzing; and operationalizing data, Build prototypes to explore applying machine learning to new areas, Experimentation and iteration to improve existing ML models, Do research that advances the state of the art of machine learning, Other'],\n",
       "      dtype=object)"
      ]
     },
     "execution_count": 5,
     "metadata": {},
     "output_type": "execute_result"
    }
   ],
   "source": [
    "df_unido['Q24'].unique()"
   ]
  },
  {
   "cell_type": "code",
   "execution_count": 7,
   "metadata": {},
   "outputs": [
    {
     "data": {
      "text/plain": [
       "Jupyter Notebook                                                                                                                   2341\n",
       "Visual Studio Code (VSCode) ,Jupyter Notebook                                                                                      1412\n",
       "Visual Studio Code (VSCode)                                                                                                         939\n",
       "PyCharm ,Jupyter Notebook                                                                                                           820\n",
       "Visual Studio Code (VSCode) ,PyCharm ,Jupyter Notebook                                                                              554\n",
       "                                                                                                                                   ... \n",
       "RStudio ,Visual Studio , Spyder, Vim / Emacs,Jupyter Notebook                                                                         1\n",
       "Jupyter (JupyterLab, Jupyter Notebooks, etc) ,Visual Studio ,Visual Studio Code (VSCode) , Vim / Emacs,MATLAB ,Jupyter Notebook       1\n",
       "Jupyter (JupyterLab, Jupyter Notebooks, etc) ,Visual Studio ,PyCharm , Spyder, Notepad++                                              1\n",
       "RStudio ,Visual Studio , Notepad++, Vim / Emacs                                                                                       1\n",
       "RStudio ,Visual Studio ,Visual Studio Code (VSCode) , Notepad++, Vim / Emacs                                                          1\n",
       "Name: Q9, Length: 1330, dtype: int64"
      ]
     },
     "execution_count": 7,
     "metadata": {},
     "output_type": "execute_result"
    }
   ],
   "source": [
    "df_unido['Q9'].value_counts()"
   ]
  },
  {
   "cell_type": "code",
   "execution_count": 25,
   "metadata": {},
   "outputs": [],
   "source": [
    "def separar_comas2(columna):\n",
    "    try:\n",
    "        patron = r'(\\(.*),(\\s.*),(\\s.*\\))'\n",
    "        return re.sub(patron, r'\\1;\\2;\\3', columna)\n",
    "    except:\n",
    "        return np.nan\n"
   ]
  },
  {
   "cell_type": "code",
   "execution_count": 27,
   "metadata": {},
   "outputs": [],
   "source": [
    "df_unido['Q9'] = df_unido['Q9'].apply(separar_comas2)"
   ]
  },
  {
   "cell_type": "markdown",
   "metadata": {},
   "source": [
    "## Limpieza: Eliminamos columnas"
   ]
  },
  {
   "cell_type": "code",
   "execution_count": null,
   "metadata": {},
   "outputs": [],
   "source": [
    "for col in df_unido.columns:\n",
    "    print(col)"
   ]
  },
  {
   "cell_type": "code",
   "execution_count": null,
   "metadata": {},
   "outputs": [],
   "source": [
    "def eliminar_etiqueta (dataframe, *lista_columna):\n",
    "    #función para eliminar las columnas en las que no nos vamos a centrar en el estudio, por etiqueta/nombre de columna, \n",
    "    #los parámetros que coge son dataframe y una lista de nombres de las columnas de ese dataframe\n",
    "    for columna in dataframe.columns:\n",
    "        for elemento  in lista_columna:\n",
    "            if elemento == columna:\n",
    "                #esta función itera por nuestra lista_columna (el arg) y comprueba si el elemento (la etiqueta a eliminar)\n",
    "                # se encuentra en cada columna, y, de ser así, la eliminará usando el método .drop()\n",
    "                dataframe.drop([columna],axis = 1, inplace = True)\n",
    "    return dataframe.columns"
   ]
  },
  {
   "cell_type": "code",
   "execution_count": null,
   "metadata": {},
   "outputs": [],
   "source": [
    "# eliminamos columnas sueltas\n",
    "eliminar_etiqueta(df_unido, *['level_0', 'time', 'Q4', 'Q11', 'Q13', 'Q20', 'Q21'])"
   ]
  },
  {
   "cell_type": "code",
   "execution_count": null,
   "metadata": {},
   "outputs": [],
   "source": [
    "for col in df_unido.columns:\n",
    "    print(col)"
   ]
  },
  {
   "cell_type": "code",
   "execution_count": null,
   "metadata": {},
   "outputs": [],
   "source": [
    "# función para eliminar las columnas en las que no nos vamos a centrar en el estudio, por rango \n",
    "def eliminar_indices (dataframe, columna1, columna2):\n",
    "    #creamos un diccionario de los índices por columna de nuestro df\n",
    "    diccionario = {}\n",
    "    #los nombres de las columnas serán nuestras keys para poder acceder a los índices usando los nombres de las columnas (los parámetros)\n",
    "    for indice, col in enumerate(df_unido.columns):\n",
    "        diccionario.update({col: indice})\n",
    "    print(diccionario)\n",
    "    #usamos el diccionario para obtener los índices en el rango \n",
    "    if columna1 in diccionario:\n",
    "        indice1 = diccionario.get(columna1)\n",
    "    else: \n",
    "        print('Columna1 no está en el diccionario')\n",
    "    if columna2 in diccionario:\n",
    "    #usamos el +1 para poder acceder al último índice\n",
    "        indice2 = diccionario.get(columna2) + 1\n",
    "    else: \n",
    "        print('Columna2 no está en el diccionario')\n",
    "        #usamos los índices para borrar el rango de columnas y así eliminiar varias a la vez\n",
    "    for elemento in dataframe.columns[indice1:indice2]:    \n",
    "        dataframe.drop([elemento],axis = 1, inplace = True)\n",
    "    return dataframe.columns"
   ]
  },
  {
   "cell_type": "markdown",
   "metadata": {},
   "source": [
    "Con la función nos vamos deshaciendo en rangos de las columnas que no nos aportan información con valor. "
   ]
  },
  {
   "cell_type": "code",
   "execution_count": null,
   "metadata": {},
   "outputs": [],
   "source": [
    "eliminar_indices(df_unido, 'Q12', 'Q17')"
   ]
  },
  {
   "cell_type": "code",
   "execution_count": null,
   "metadata": {},
   "outputs": [],
   "source": [
    "eliminar_indices(df_unido, 'Q23', 'Q35')"
   ]
  },
  {
   "cell_type": "code",
   "execution_count": null,
   "metadata": {},
   "outputs": [],
   "source": [
    "eliminar_indices(df_unido, 'Q18_Part_1', 'Q38_A_OTHER')"
   ]
  },
  {
   "cell_type": "code",
   "execution_count": null,
   "metadata": {},
   "outputs": [],
   "source": [
    "eliminar_indices(df_unido, 'Q40_Part_1', 'Q38_B_OTHER')"
   ]
  },
  {
   "cell_type": "code",
   "execution_count": null,
   "metadata": {},
   "outputs": [],
   "source": [
    "for i in df_unido.columns:\n",
    "    print(i)"
   ]
  },
  {
   "cell_type": "code",
   "execution_count": 29,
   "metadata": {},
   "outputs": [],
   "source": [
    "def reemplazar_comas(columna):\n",
    "    try:\n",
    "        patron = ','\n",
    "        return re.sub(patron, ';', columna)\n",
    "    except:\n",
    "        return np.nan\n",
    "        "
   ]
  },
  {
   "cell_type": "code",
   "execution_count": null,
   "metadata": {},
   "outputs": [],
   "source": [
    "for columna in df_unido.columns:\n",
    "    df[columna] = df[columna].apply(reemplazar_comas)"
   ]
  },
  {
   "cell_type": "code",
   "execution_count": null,
   "metadata": {},
   "outputs": [],
   "source": [
    "def reemplazar_punto_comas(columna):\n",
    "    try:\n",
    "        patron = ';'\n",
    "        return re.sub(patron, ',', columna)\n",
    "    except:\n",
    "        return np.nan\n",
    "        "
   ]
  },
  {
   "cell_type": "code",
   "execution_count": null,
   "metadata": {},
   "outputs": [],
   "source": [
    "# guardamos los datos unidos con las columnas eliminadas en un archivo de csv\n",
    "df_unido.to_csv('../datos/datos_unidos.csv')"
   ]
  },
  {
   "cell_type": "markdown",
   "metadata": {},
   "source": [
    "## Filtramos por Data Analysts"
   ]
  },
  {
   "cell_type": "code",
   "execution_count": null,
   "metadata": {},
   "outputs": [],
   "source": [
    "# filtramos el nuevo dataframe unido por respuestas de personas que se identifican como \n",
    "# Business Analyst o Data Analyst\n",
    "df_da_ba = df_unido[(df_unido [\"Q5\"] == \"Business Analyst\") | (df_unido [\"Q5\"] == \"Data Analyst\")]"
   ]
  },
  {
   "cell_type": "code",
   "execution_count": null,
   "metadata": {},
   "outputs": [],
   "source": [
    "df_da_ba.head()"
   ]
  },
  {
   "cell_type": "code",
   "execution_count": null,
   "metadata": {},
   "outputs": [],
   "source": [
    "# guardamos los datos unidos con las columnas eliminadas en un archivo de csv\n",
    "df_da_ba.to_csv('../datos/datos_da_ba.csv')"
   ]
  }
 ],
 "metadata": {
  "kernelspec": {
   "display_name": "base",
   "language": "python",
   "name": "python3"
  },
  "language_info": {
   "codemirror_mode": {
    "name": "ipython",
    "version": 3
   },
   "file_extension": ".py",
   "mimetype": "text/x-python",
   "name": "python",
   "nbconvert_exporter": "python",
   "pygments_lexer": "ipython3",
   "version": "3.9.7"
  },
  "orig_nbformat": 4
 },
 "nbformat": 4,
 "nbformat_minor": 2
}
